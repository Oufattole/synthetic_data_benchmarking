{
 "cells": [
  {
   "cell_type": "code",
   "execution_count": 1,
   "id": "8a8b5e8a-119c-4da9-9284-876003ad3ec9",
   "metadata": {},
   "outputs": [],
   "source": [
    "from pycaret.classification import * # Preprocessing, modelling, interpretation, deployment...\n",
    "import pandas as pd # Basic data manipulation\n",
    "from sklearn.model_selection import train_test_split # Data split\n",
    "from sdv.tabular import CopulaGAN, GaussianCopula, CTGAN, TVAE # Synthetic data\n",
    "from sdv.evaluation import evaluate # Evaluate synthetic data\n",
    "import sdmetrics"
   ]
  },
  {
   "cell_type": "code",
   "execution_count": 2,
   "id": "04af2065-185f-4786-9be7-ce9d4c8a94d0",
   "metadata": {},
   "outputs": [],
   "source": [
    "import sys\n",
    "sys.path.append('sd_benchmarking/')"
   ]
  },
  {
   "cell_type": "code",
   "execution_count": 3,
   "id": "5b818488-d23b-4b1a-86e7-c687d2d4a9f3",
   "metadata": {},
   "outputs": [],
   "source": [
    "import utils"
   ]
  },
  {
   "cell_type": "code",
   "execution_count": 5,
   "id": "c4b6bdf1-0237-43c7-968b-0fcf42e9983a",
   "metadata": {},
   "outputs": [],
   "source": [
    "utils.split_data(dataset_path =\"insurance.csv\", output_directory=\"regression_data/\", train_filename = \"train.csv\", test_filename = \"test.csv\", target_name=\"charges\")"
   ]
  },
  {
   "cell_type": "code",
   "execution_count": 2,
   "id": "8f8e6d9f-10f8-4795-96e1-e5f2a6a92d10",
   "metadata": {},
   "outputs": [],
   "source": [
    "df = pd.read_csv(\"regression_data/train.csv\")"
   ]
  },
  {
   "cell_type": "code",
   "execution_count": 3,
   "id": "78af6e0e-e889-48f3-815d-9dbefa117636",
   "metadata": {},
   "outputs": [
    {
     "data": {
      "text/html": [
       "<div>\n",
       "<style scoped>\n",
       "    .dataframe tbody tr th:only-of-type {\n",
       "        vertical-align: middle;\n",
       "    }\n",
       "\n",
       "    .dataframe tbody tr th {\n",
       "        vertical-align: top;\n",
       "    }\n",
       "\n",
       "    .dataframe thead th {\n",
       "        text-align: right;\n",
       "    }\n",
       "</style>\n",
       "<table border=\"1\" class=\"dataframe\">\n",
       "  <thead>\n",
       "    <tr style=\"text-align: right;\">\n",
       "      <th></th>\n",
       "      <th>Unnamed: 0</th>\n",
       "      <th>age</th>\n",
       "      <th>sex</th>\n",
       "      <th>bmi</th>\n",
       "      <th>children</th>\n",
       "      <th>smoker</th>\n",
       "      <th>region</th>\n",
       "      <th>charges</th>\n",
       "    </tr>\n",
       "  </thead>\n",
       "  <tbody>\n",
       "    <tr>\n",
       "      <th>0</th>\n",
       "      <td>25</td>\n",
       "      <td>59</td>\n",
       "      <td>female</td>\n",
       "      <td>27.720</td>\n",
       "      <td>3</td>\n",
       "      <td>no</td>\n",
       "      <td>southeast</td>\n",
       "      <td>14001.13380</td>\n",
       "    </tr>\n",
       "    <tr>\n",
       "      <th>1</th>\n",
       "      <td>336</td>\n",
       "      <td>60</td>\n",
       "      <td>male</td>\n",
       "      <td>25.740</td>\n",
       "      <td>0</td>\n",
       "      <td>no</td>\n",
       "      <td>southeast</td>\n",
       "      <td>12142.57860</td>\n",
       "    </tr>\n",
       "    <tr>\n",
       "      <th>2</th>\n",
       "      <td>47</td>\n",
       "      <td>28</td>\n",
       "      <td>female</td>\n",
       "      <td>34.770</td>\n",
       "      <td>0</td>\n",
       "      <td>no</td>\n",
       "      <td>northwest</td>\n",
       "      <td>3556.92230</td>\n",
       "    </tr>\n",
       "    <tr>\n",
       "      <th>3</th>\n",
       "      <td>106</td>\n",
       "      <td>19</td>\n",
       "      <td>female</td>\n",
       "      <td>28.400</td>\n",
       "      <td>1</td>\n",
       "      <td>no</td>\n",
       "      <td>southwest</td>\n",
       "      <td>2331.51900</td>\n",
       "    </tr>\n",
       "    <tr>\n",
       "      <th>4</th>\n",
       "      <td>1269</td>\n",
       "      <td>45</td>\n",
       "      <td>male</td>\n",
       "      <td>27.500</td>\n",
       "      <td>3</td>\n",
       "      <td>no</td>\n",
       "      <td>southwest</td>\n",
       "      <td>8615.30000</td>\n",
       "    </tr>\n",
       "    <tr>\n",
       "      <th>5</th>\n",
       "      <td>55</td>\n",
       "      <td>58</td>\n",
       "      <td>male</td>\n",
       "      <td>36.955</td>\n",
       "      <td>2</td>\n",
       "      <td>yes</td>\n",
       "      <td>northwest</td>\n",
       "      <td>47496.49445</td>\n",
       "    </tr>\n",
       "    <tr>\n",
       "      <th>6</th>\n",
       "      <td>649</td>\n",
       "      <td>58</td>\n",
       "      <td>female</td>\n",
       "      <td>32.965</td>\n",
       "      <td>0</td>\n",
       "      <td>no</td>\n",
       "      <td>northeast</td>\n",
       "      <td>12430.95335</td>\n",
       "    </tr>\n",
       "    <tr>\n",
       "      <th>7</th>\n",
       "      <td>213</td>\n",
       "      <td>34</td>\n",
       "      <td>female</td>\n",
       "      <td>26.730</td>\n",
       "      <td>1</td>\n",
       "      <td>no</td>\n",
       "      <td>southeast</td>\n",
       "      <td>5002.78270</td>\n",
       "    </tr>\n",
       "    <tr>\n",
       "      <th>8</th>\n",
       "      <td>120</td>\n",
       "      <td>44</td>\n",
       "      <td>male</td>\n",
       "      <td>37.100</td>\n",
       "      <td>2</td>\n",
       "      <td>no</td>\n",
       "      <td>southwest</td>\n",
       "      <td>7740.33700</td>\n",
       "    </tr>\n",
       "    <tr>\n",
       "      <th>9</th>\n",
       "      <td>697</td>\n",
       "      <td>41</td>\n",
       "      <td>male</td>\n",
       "      <td>35.750</td>\n",
       "      <td>1</td>\n",
       "      <td>yes</td>\n",
       "      <td>southeast</td>\n",
       "      <td>40273.64550</td>\n",
       "    </tr>\n",
       "  </tbody>\n",
       "</table>\n",
       "</div>"
      ],
      "text/plain": [
       "   Unnamed: 0  age     sex     bmi  children smoker     region      charges\n",
       "0          25   59  female  27.720         3     no  southeast  14001.13380\n",
       "1         336   60    male  25.740         0     no  southeast  12142.57860\n",
       "2          47   28  female  34.770         0     no  northwest   3556.92230\n",
       "3         106   19  female  28.400         1     no  southwest   2331.51900\n",
       "4        1269   45    male  27.500         3     no  southwest   8615.30000\n",
       "5          55   58    male  36.955         2    yes  northwest  47496.49445\n",
       "6         649   58  female  32.965         0     no  northeast  12430.95335\n",
       "7         213   34  female  26.730         1     no  southeast   5002.78270\n",
       "8         120   44    male  37.100         2     no  southwest   7740.33700\n",
       "9         697   41    male  35.750         1    yes  southeast  40273.64550"
      ]
     },
     "execution_count": 3,
     "metadata": {},
     "output_type": "execute_result"
    }
   ],
   "source": [
    "df.head(10)"
   ]
  },
  {
   "cell_type": "code",
   "execution_count": 4,
   "id": "5e169e46-49ea-47f2-a751-4a78259ed5a8",
   "metadata": {},
   "outputs": [
    {
     "data": {
      "text/plain": [
       "Unnamed: 0      int64\n",
       "age             int64\n",
       "sex            object\n",
       "bmi           float64\n",
       "children        int64\n",
       "smoker         object\n",
       "region         object\n",
       "charges       float64\n",
       "dtype: object"
      ]
     },
     "execution_count": 4,
     "metadata": {},
     "output_type": "execute_result"
    }
   ],
   "source": [
    "df.dtypes"
   ]
  },
  {
   "cell_type": "code",
   "execution_count": 8,
   "id": "03bf84e4-c6bc-4790-8fd5-323a75a33b1f",
   "metadata": {},
   "outputs": [],
   "source": [
    "data = df\n",
    "gaussian_copula = GaussianCopula()\n",
    "gaussian_copula.fit(data)\n",
    "gaussian_copula.save('GuassianCopulaModel.pkl')"
   ]
  },
  {
   "cell_type": "code",
   "execution_count": 5,
   "id": "689fdd77-8e8a-4a90-a126-6924a0547ef2",
   "metadata": {},
   "outputs": [],
   "source": [
    "data = df\n",
    "tvae = TVAE()\n",
    "tvae.fit(data)\n",
    "tvae.save('TvaeModel.pkl')"
   ]
  },
  {
   "cell_type": "code",
   "execution_count": 6,
   "id": "618728d7-d017-4714-85a7-908ada4b5b7a",
   "metadata": {},
   "outputs": [],
   "source": [
    "data = df\n",
    "ctgan = CTGAN()\n",
    "ctgan.fit(data)\n",
    "ctgan.save('CtganModel.pkl')"
   ]
  },
  {
   "cell_type": "code",
   "execution_count": null,
   "id": "cf26feae-28a6-41d0-a1fa-72392ba1bd3f",
   "metadata": {},
   "outputs": [],
   "source": [
    "import task\n",
    "import benchmark"
   ]
  },
  {
   "cell_type": "code",
   "execution_count": null,
   "id": "54c1880f-e030-4dd7-b738-c4f8807b6fdb",
   "metadata": {},
   "outputs": [],
   "source": [
    "results_output_path = \"results/\"\n",
    "task_output_path = \"tasks/\"\n",
    "path_to_generators = \"regression_generators/\"\n",
    "tasks = task.create_tasks(train_dataset=\"regression_data/train.csv\",\n",
    "                    test_dataset=\"regression_data/test.csv\", target=\"charges\",\n",
    "                    path_to_generators = path_to_generators, pycaret_models=[\"lr\", \"ridge\", \"kr\"],\n",
    "                    task_sampling_method=\"uniform\", run_num=1, output_dir=task_output_path, is_regression=True)"
   ]
  },
  {
   "cell_type": "code",
   "execution_count": null,
   "id": "112cdcaa-51e6-4b92-894a-ac57333e602b",
   "metadata": {},
   "outputs": [],
   "source": [
    "# run benchmark on tasks\n",
    "result_df, failed_tasks = benchmark.benchmark(tasks, agnostic_metrics=False, output_path=results_output_path)\n",
    "print(\"failed tasks:\")\n",
    "for each in failed_tasks:\n",
    "    print(each)"
   ]
  },
  {
   "cell_type": "code",
   "execution_count": null,
   "id": "787e7e99-76d7-43f8-827c-43a1b076b0db",
   "metadata": {},
   "outputs": [],
   "source": []
  },
  {
   "cell_type": "code",
   "execution_count": null,
   "id": "6b9f29ab-5a2b-4ee5-a44c-579a8290d6a8",
   "metadata": {},
   "outputs": [],
   "source": []
  },
  {
   "cell_type": "code",
   "execution_count": null,
   "id": "bc150531-81bb-422f-9225-8c548e2effa3",
   "metadata": {},
   "outputs": [],
   "source": []
  }
 ],
 "metadata": {
  "kernelspec": {
   "display_name": "rui",
   "language": "python",
   "name": "rui"
  },
  "language_info": {
   "codemirror_mode": {
    "name": "ipython",
    "version": 3
   },
   "file_extension": ".py",
   "mimetype": "text/x-python",
   "name": "python",
   "nbconvert_exporter": "python",
   "pygments_lexer": "ipython3",
   "version": "3.6.13"
  }
 },
 "nbformat": 4,
 "nbformat_minor": 5
}
